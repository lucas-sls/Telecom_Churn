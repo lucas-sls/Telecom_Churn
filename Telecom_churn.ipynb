{
 "cells": [
  {
   "cell_type": "markdown",
   "id": "dd4d8804",
   "metadata": {},
   "source": [
    "# ANALISANDO O CANCELAMENTO DE PLANOS POR ASSINATURA DE UMA EMPRESA DE TELECOMUNICAÇÕES COM O AUXÍLIO DE ALGORITMOS DE MACHINE LEARNING"
   ]
  },
  {
   "cell_type": "markdown",
   "id": "e3a26e9b",
   "metadata": {},
   "source": [
    "**POR LUCAS FONSECA MÜLLER**"
   ]
  },
  {
   "cell_type": "markdown",
   "id": "934adce1",
   "metadata": {},
   "source": [
    "### 1. INTRODUÇÃO "
   ]
  },
  {
   "cell_type": "markdown",
   "id": "428a7f18",
   "metadata": {},
   "source": [
    "O presente trabalho é um estudo de caso que visa analisar o churn (nível de evasão) dos clientes de uma empresa do setor de telecomunicações, buscando traçar um algoritmo que preveja os rompimentos de assinaturas dos planos, assim como detecte as variáveis envolvidas, para que a organização possa elaborar uma estratégia de retenção para esse grupo, e assim ampliar seus lucros, uma vez que o custo de aquisição de cliente é bem maior de que o de sua manutenção.\n",
    "\n",
    "Sendo assim, este estudo de caso visa:\n",
    "\n",
    "1. Detectar os atributos que possuem mais relação com o rompimento dos planos por assinatura;\n",
    "2. Definir o algoritmo de machine learning que obtém a maior precisão na previsão dos churns. "
   ]
  },
  {
   "cell_type": "markdown",
   "id": "ba3d3877",
   "metadata": {},
   "source": [
    "#### 1.1. Dicionário de variáveis:"
   ]
  },
  {
   "cell_type": "markdown",
   "id": "36dd5755",
   "metadata": {},
   "source": [
    "* **State**: Estado de residência do cliente nos EUA;\n",
    "* **Account length**: Número de meses que o cliente está fidelizado à companhia;\n",
    "* **Area code**: Código de área\n",
    "* **International plan**: Tem plano internacional?\n",
    "* **Voice mail plan**: Possui plano com correio de voz? \n",
    "* **Number vmail messages**: Quantidade de correios de voz;\n",
    "* **Total day minutes**: Total de minutos durante o dia;\n",
    "* **Total day calls**: Total de chamadas durante o dia;\n",
    "* **Total day charge**: Cobrança total durante o dia;\n",
    "* **Total eve minutes**: Total de minutos ao início da noite;\n",
    "* **Total eve calls**: Total de ligações ao início da noite;\n",
    "* **Total eve charge**: Cobrança total ao início da noite;\n",
    "* **Total night minutes**: Total de minutos à noite;\n",
    "* **Total night calls**: Total de ligações à noite;\n",
    "* **Total night charge**: Cobrança total à noite;\n",
    "* **Total intl minutes**: Total de minutos internacionais;\n",
    "* **Total intl calls**: Total de ligações internacionais;\n",
    "* **Total intl charge**: Cobrança total internacional;\n",
    "* **Customer service calls**: Quantidade de solicitações de suporte ao cliente;\n",
    "* **Churn**: Cliente cancelou a assinatura do plano?"
   ]
  },
  {
   "cell_type": "markdown",
   "id": "94363a7b",
   "metadata": {},
   "source": [
    "### 2. SUMARIZAÇÃO E PREPARAÇÃO DO DATASET "
   ]
  },
  {
   "cell_type": "code",
   "execution_count": null,
   "id": "cc7d1538",
   "metadata": {},
   "outputs": [],
   "source": []
  }
 ],
 "metadata": {
  "kernelspec": {
   "display_name": "Python 3 (ipykernel)",
   "language": "python",
   "name": "python3"
  },
  "language_info": {
   "codemirror_mode": {
    "name": "ipython",
    "version": 3
   },
   "file_extension": ".py",
   "mimetype": "text/x-python",
   "name": "python",
   "nbconvert_exporter": "python",
   "pygments_lexer": "ipython3",
   "version": "3.9.7"
  }
 },
 "nbformat": 4,
 "nbformat_minor": 5
}

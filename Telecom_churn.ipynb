{
 "cells": [
  {
   "cell_type": "markdown",
   "id": "dd4d8804",
   "metadata": {},
   "source": [
    "# ANALISANDO O CANCELAMENTO DE PLANOS POR ASSINATURA DE UMA EMPRESA DE TELECOMUNICAÇÕES COM O AUXÍLIO DE ALGORITMOS DE MACHINE LEARNING"
   ]
  },
  {
   "cell_type": "markdown",
   "id": "e3a26e9b",
   "metadata": {},
   "source": [
    "**POR LUCAS FONSECA MÜLLER**"
   ]
  },
  {
   "cell_type": "markdown",
   "id": "934adce1",
   "metadata": {},
   "source": [
    "### 1. INTRODUÇÃO "
   ]
  },
  {
   "cell_type": "markdown",
   "id": "428a7f18",
   "metadata": {},
   "source": [
    "O presente trabalho é um estudo de caso que visa analisar o churn (nível de evasão) dos clientes de uma empresa do setor de telecomunicações, buscando traçar um algoritmo que preveja os rompimentos de assinaturas dos planos, assim como detecte as variáveis envolvidas, para que a organização possa elaborar uma estratégia de retenção para esse grupo, e assim ampliar seus lucros, uma vez que o custo de aquisição de cliente é bem maior de que o de sua manutenção.\n",
    "\n",
    "Sendo assim, este estudo de caso visa:\n",
    "\n",
    "1. Detectar os atributos que possuem mais relação com o rompimento dos planos por assinatura;\n",
    "2. Definir o algoritmo de machine learning que obtém a maior precisão na previsão dos churns. "
   ]
  },
  {
   "cell_type": "markdown",
   "id": "ba3d3877",
   "metadata": {},
   "source": [
    "#### 1.1. Dicionário de variáveis:"
   ]
  },
  {
   "cell_type": "markdown",
   "id": "36dd5755",
   "metadata": {},
   "source": [
    "* **State**: Estado de residência do cliente nos EUA;\n",
    "* **Account length**: Número de meses que o cliente está fidelizado à companhia;\n",
    "* **Area code**: Código de área\n",
    "* **International plan**: Tem plano internacional?\n",
    "* **Voice mail plan**: Possui plano com correio de voz? \n",
    "* **Number vmail messages**: Quantidade de correios de voz;\n",
    "* **Total day minutes**: Total de minutos durante o dia;\n",
    "* **Total day calls**: Total de chamadas durante o dia;\n",
    "* **Total day charge**: Cobrança total durante o dia;\n",
    "* **Total eve minutes**: Total de minutos ao início da noite;\n",
    "* **Total eve calls**: Total de ligações ao início da noite;\n",
    "* **Total eve charge**: Cobrança total ao início da noite;\n",
    "* **Total night minutes**: Total de minutos à noite;\n",
    "* **Total night calls**: Total de ligações à noite;\n",
    "* **Total night charge**: Cobrança total à noite;\n",
    "* **Total intl minutes**: Total de minutos internacionais;\n",
    "* **Total intl calls**: Total de ligações internacionais;\n",
    "* **Total intl charge**: Cobrança total internacional;\n",
    "* **Customer service calls**: Quantidade de solicitações de suporte ao cliente;\n",
    "* **Churn**: Cliente cancelou a assinatura do plano?"
   ]
  },
  {
   "cell_type": "markdown",
   "id": "94363a7b",
   "metadata": {},
   "source": [
    "### 2. SUMARIZAÇÃO E PREPARAÇÃO DO DATASET "
   ]
  },
  {
   "cell_type": "markdown",
   "id": "64ffc101",
   "metadata": {},
   "source": [
    "#### 2.1. Imports"
   ]
  },
  {
   "cell_type": "code",
   "execution_count": 1,
   "id": "cc7d1538",
   "metadata": {},
   "outputs": [],
   "source": [
    "# Importando bibliotecas\n",
    "\n",
    "# Análise de dados e data Wrangling\n",
    "import numpy as np\n",
    "import pandas as pd\n",
    "import random as rnd\n",
    "\n",
    "# DataViz\n",
    "import seaborn as sns\n",
    "import matplotlib.pyplot as plt \n",
    "%matplotlib inline \n",
    "\n",
    "# Algoritmos de Machine Learning\n",
    "from sklearn.tree import DecisionTreeClassifier\n",
    "from sklearn.naive_bayes import GaussianNB\n",
    "from sklearn.neighbors import KNeighborsClassifier\n",
    "from sklearn.svm import SVC, LinearSVC\n",
    "from sklearn.ensemble import RandomForestClassifier\n",
    "from sklearn.linear_model import LogisticRegression\n",
    "from sklearn.linear_model import Perceptron\n",
    "from sklearn.linear_model import SGDClassifier"
   ]
  },
  {
   "cell_type": "markdown",
   "id": "a22df41b",
   "metadata": {},
   "source": [
    "#### 2.2. Coleta de dados e separação dos conjuntos de treino e teste"
   ]
  },
  {
   "cell_type": "code",
   "execution_count": 2,
   "id": "6fabba64",
   "metadata": {},
   "outputs": [
    {
     "name": "stdout",
     "output_type": "stream",
     "text": [
      "(3333, 20)\n",
      "(2666, 20)\n",
      "(667, 20)\n"
     ]
    }
   ],
   "source": [
    "# Carregamento da base de dados\n",
    "df = pd.read_csv('https://raw.githubusercontent.com/lucas-sls/Telecom_Churn/main/DATA/churns.csv')\n",
    "\n",
    "# Definição dos conjuntos de treino e teste\n",
    "df_treino = df.sample(frac=0.8 , random_state=200)\n",
    "df_teste = df.drop(df_treino.index)\n",
    "\n",
    "print(df.shape)\n",
    "print(df_treino.shape)\n",
    "print(df_teste.shape)"
   ]
  },
  {
   "cell_type": "markdown",
   "id": "665ad7e1",
   "metadata": {},
   "source": [
    "#### 2.3. Descrevendo o dataset"
   ]
  },
  {
   "cell_type": "markdown",
   "id": "0685c964",
   "metadata": {},
   "source": [
    "##### Prévia dos dados"
   ]
  },
  {
   "cell_type": "code",
   "execution_count": 3,
   "id": "ea2503a4",
   "metadata": {},
   "outputs": [
    {
     "data": {
      "text/html": [
       "<div>\n",
       "<style scoped>\n",
       "    .dataframe tbody tr th:only-of-type {\n",
       "        vertical-align: middle;\n",
       "    }\n",
       "\n",
       "    .dataframe tbody tr th {\n",
       "        vertical-align: top;\n",
       "    }\n",
       "\n",
       "    .dataframe thead th {\n",
       "        text-align: right;\n",
       "    }\n",
       "</style>\n",
       "<table border=\"1\" class=\"dataframe\">\n",
       "  <thead>\n",
       "    <tr style=\"text-align: right;\">\n",
       "      <th></th>\n",
       "      <th>State</th>\n",
       "      <th>Account length</th>\n",
       "      <th>Area code</th>\n",
       "      <th>International plan</th>\n",
       "      <th>Voice mail plan</th>\n",
       "      <th>Number vmail messages</th>\n",
       "      <th>Total day minutes</th>\n",
       "      <th>Total day calls</th>\n",
       "      <th>Total day charge</th>\n",
       "      <th>Total eve minutes</th>\n",
       "      <th>Total eve calls</th>\n",
       "      <th>Total eve charge</th>\n",
       "      <th>Total night minutes</th>\n",
       "      <th>Total night calls</th>\n",
       "      <th>Total night charge</th>\n",
       "      <th>Total intl minutes</th>\n",
       "      <th>Total intl calls</th>\n",
       "      <th>Total intl charge</th>\n",
       "      <th>Customer service calls</th>\n",
       "      <th>Churn</th>\n",
       "    </tr>\n",
       "  </thead>\n",
       "  <tbody>\n",
       "    <tr>\n",
       "      <th>960</th>\n",
       "      <td>NV</td>\n",
       "      <td>180</td>\n",
       "      <td>510</td>\n",
       "      <td>No</td>\n",
       "      <td>No</td>\n",
       "      <td>0</td>\n",
       "      <td>139.0</td>\n",
       "      <td>96</td>\n",
       "      <td>23.63</td>\n",
       "      <td>224.9</td>\n",
       "      <td>64</td>\n",
       "      <td>19.12</td>\n",
       "      <td>170.8</td>\n",
       "      <td>118</td>\n",
       "      <td>7.69</td>\n",
       "      <td>15.7</td>\n",
       "      <td>5</td>\n",
       "      <td>4.24</td>\n",
       "      <td>2</td>\n",
       "      <td>False</td>\n",
       "    </tr>\n",
       "    <tr>\n",
       "      <th>1937</th>\n",
       "      <td>OK</td>\n",
       "      <td>177</td>\n",
       "      <td>408</td>\n",
       "      <td>No</td>\n",
       "      <td>No</td>\n",
       "      <td>0</td>\n",
       "      <td>175.4</td>\n",
       "      <td>99</td>\n",
       "      <td>29.82</td>\n",
       "      <td>155.3</td>\n",
       "      <td>83</td>\n",
       "      <td>13.20</td>\n",
       "      <td>179.4</td>\n",
       "      <td>86</td>\n",
       "      <td>8.07</td>\n",
       "      <td>11.5</td>\n",
       "      <td>3</td>\n",
       "      <td>3.11</td>\n",
       "      <td>1</td>\n",
       "      <td>False</td>\n",
       "    </tr>\n",
       "    <tr>\n",
       "      <th>228</th>\n",
       "      <td>MI</td>\n",
       "      <td>86</td>\n",
       "      <td>415</td>\n",
       "      <td>No</td>\n",
       "      <td>Yes</td>\n",
       "      <td>28</td>\n",
       "      <td>221.6</td>\n",
       "      <td>74</td>\n",
       "      <td>37.67</td>\n",
       "      <td>288.4</td>\n",
       "      <td>100</td>\n",
       "      <td>24.51</td>\n",
       "      <td>240.3</td>\n",
       "      <td>105</td>\n",
       "      <td>10.81</td>\n",
       "      <td>9.0</td>\n",
       "      <td>2</td>\n",
       "      <td>2.43</td>\n",
       "      <td>1</td>\n",
       "      <td>False</td>\n",
       "    </tr>\n",
       "    <tr>\n",
       "      <th>2032</th>\n",
       "      <td>NJ</td>\n",
       "      <td>88</td>\n",
       "      <td>510</td>\n",
       "      <td>No</td>\n",
       "      <td>No</td>\n",
       "      <td>0</td>\n",
       "      <td>144.3</td>\n",
       "      <td>116</td>\n",
       "      <td>24.53</td>\n",
       "      <td>156.4</td>\n",
       "      <td>74</td>\n",
       "      <td>13.29</td>\n",
       "      <td>214.7</td>\n",
       "      <td>90</td>\n",
       "      <td>9.66</td>\n",
       "      <td>7.8</td>\n",
       "      <td>10</td>\n",
       "      <td>2.11</td>\n",
       "      <td>3</td>\n",
       "      <td>False</td>\n",
       "    </tr>\n",
       "    <tr>\n",
       "      <th>2391</th>\n",
       "      <td>KS</td>\n",
       "      <td>84</td>\n",
       "      <td>415</td>\n",
       "      <td>No</td>\n",
       "      <td>No</td>\n",
       "      <td>0</td>\n",
       "      <td>225.9</td>\n",
       "      <td>86</td>\n",
       "      <td>38.40</td>\n",
       "      <td>275.6</td>\n",
       "      <td>105</td>\n",
       "      <td>23.43</td>\n",
       "      <td>201.4</td>\n",
       "      <td>108</td>\n",
       "      <td>9.06</td>\n",
       "      <td>14.3</td>\n",
       "      <td>3</td>\n",
       "      <td>3.86</td>\n",
       "      <td>3</td>\n",
       "      <td>True</td>\n",
       "    </tr>\n",
       "  </tbody>\n",
       "</table>\n",
       "</div>"
      ],
      "text/plain": [
       "     State  Account length  Area code International plan Voice mail plan  \\\n",
       "960     NV             180        510                 No              No   \n",
       "1937    OK             177        408                 No              No   \n",
       "228     MI              86        415                 No             Yes   \n",
       "2032    NJ              88        510                 No              No   \n",
       "2391    KS              84        415                 No              No   \n",
       "\n",
       "      Number vmail messages  Total day minutes  Total day calls  \\\n",
       "960                       0              139.0               96   \n",
       "1937                      0              175.4               99   \n",
       "228                      28              221.6               74   \n",
       "2032                      0              144.3              116   \n",
       "2391                      0              225.9               86   \n",
       "\n",
       "      Total day charge  Total eve minutes  Total eve calls  Total eve charge  \\\n",
       "960              23.63              224.9               64             19.12   \n",
       "1937             29.82              155.3               83             13.20   \n",
       "228              37.67              288.4              100             24.51   \n",
       "2032             24.53              156.4               74             13.29   \n",
       "2391             38.40              275.6              105             23.43   \n",
       "\n",
       "      Total night minutes  Total night calls  Total night charge  \\\n",
       "960                 170.8                118                7.69   \n",
       "1937                179.4                 86                8.07   \n",
       "228                 240.3                105               10.81   \n",
       "2032                214.7                 90                9.66   \n",
       "2391                201.4                108                9.06   \n",
       "\n",
       "      Total intl minutes  Total intl calls  Total intl charge  \\\n",
       "960                 15.7                 5               4.24   \n",
       "1937                11.5                 3               3.11   \n",
       "228                  9.0                 2               2.43   \n",
       "2032                 7.8                10               2.11   \n",
       "2391                14.3                 3               3.86   \n",
       "\n",
       "      Customer service calls  Churn  \n",
       "960                        2  False  \n",
       "1937                       1  False  \n",
       "228                        1  False  \n",
       "2032                       3  False  \n",
       "2391                       3   True  "
      ]
     },
     "execution_count": 3,
     "metadata": {},
     "output_type": "execute_result"
    }
   ],
   "source": [
    "df_treino.head() # 5 primeiras linhas do dataset\n",
    "\n",
    "# Sem variaveis alfa-numéricas para posterior tratamento!"
   ]
  },
  {
   "cell_type": "markdown",
   "id": "3442a3e0",
   "metadata": {},
   "source": [
    "##### a) Quais variáveis estão disponíveis no conjunto de dados?"
   ]
  },
  {
   "cell_type": "code",
   "execution_count": 4,
   "id": "95cebded",
   "metadata": {},
   "outputs": [
    {
     "name": "stdout",
     "output_type": "stream",
     "text": [
      "['State' 'Account length' 'Area code' 'International plan'\n",
      " 'Voice mail plan' 'Number vmail messages' 'Total day minutes'\n",
      " 'Total day calls' 'Total day charge' 'Total eve minutes'\n",
      " 'Total eve calls' 'Total eve charge' 'Total night minutes'\n",
      " 'Total night calls' 'Total night charge' 'Total intl minutes'\n",
      " 'Total intl calls' 'Total intl charge' 'Customer service calls' 'Churn']\n",
      "20\n"
     ]
    }
   ],
   "source": [
    "print(df_treino.columns.values)\n",
    "print(len(df_treino.columns.values)) # existem 20 variáveis!\n"
   ]
  },
  {
   "cell_type": "markdown",
   "id": "7622b20a",
   "metadata": {},
   "source": [
    "##### b) Quais são os tipos das variáveis?"
   ]
  },
  {
   "cell_type": "code",
   "execution_count": 5,
   "id": "3b6cdffe",
   "metadata": {
    "scrolled": false
   },
   "outputs": [
    {
     "name": "stdout",
     "output_type": "stream",
     "text": [
      "<class 'pandas.core.frame.DataFrame'>\n",
      "Int64Index: 2666 entries, 960 to 1446\n",
      "Data columns (total 20 columns):\n",
      " #   Column                  Non-Null Count  Dtype  \n",
      "---  ------                  --------------  -----  \n",
      " 0   State                   2666 non-null   object \n",
      " 1   Account length          2666 non-null   int64  \n",
      " 2   Area code               2666 non-null   int64  \n",
      " 3   International plan      2666 non-null   object \n",
      " 4   Voice mail plan         2666 non-null   object \n",
      " 5   Number vmail messages   2666 non-null   int64  \n",
      " 6   Total day minutes       2666 non-null   float64\n",
      " 7   Total day calls         2666 non-null   int64  \n",
      " 8   Total day charge        2666 non-null   float64\n",
      " 9   Total eve minutes       2666 non-null   float64\n",
      " 10  Total eve calls         2666 non-null   int64  \n",
      " 11  Total eve charge        2666 non-null   float64\n",
      " 12  Total night minutes     2666 non-null   float64\n",
      " 13  Total night calls       2666 non-null   int64  \n",
      " 14  Total night charge      2666 non-null   float64\n",
      " 15  Total intl minutes      2666 non-null   float64\n",
      " 16  Total intl calls        2666 non-null   int64  \n",
      " 17  Total intl charge       2666 non-null   float64\n",
      " 18  Customer service calls  2666 non-null   int64  \n",
      " 19  Churn                   2666 non-null   bool   \n",
      "dtypes: bool(1), float64(8), int64(8), object(3)\n",
      "memory usage: 419.2+ KB\n",
      "--------------------------------------------------------------------------------\n",
      "<class 'pandas.core.frame.DataFrame'>\n",
      "Int64Index: 667 entries, 17 to 3328\n",
      "Data columns (total 20 columns):\n",
      " #   Column                  Non-Null Count  Dtype  \n",
      "---  ------                  --------------  -----  \n",
      " 0   State                   667 non-null    object \n",
      " 1   Account length          667 non-null    int64  \n",
      " 2   Area code               667 non-null    int64  \n",
      " 3   International plan      667 non-null    object \n",
      " 4   Voice mail plan         667 non-null    object \n",
      " 5   Number vmail messages   667 non-null    int64  \n",
      " 6   Total day minutes       667 non-null    float64\n",
      " 7   Total day calls         667 non-null    int64  \n",
      " 8   Total day charge        667 non-null    float64\n",
      " 9   Total eve minutes       667 non-null    float64\n",
      " 10  Total eve calls         667 non-null    int64  \n",
      " 11  Total eve charge        667 non-null    float64\n",
      " 12  Total night minutes     667 non-null    float64\n",
      " 13  Total night calls       667 non-null    int64  \n",
      " 14  Total night charge      667 non-null    float64\n",
      " 15  Total intl minutes      667 non-null    float64\n",
      " 16  Total intl calls        667 non-null    int64  \n",
      " 17  Total intl charge       667 non-null    float64\n",
      " 18  Customer service calls  667 non-null    int64  \n",
      " 19  Churn                   667 non-null    bool   \n",
      "dtypes: bool(1), float64(8), int64(8), object(3)\n",
      "memory usage: 104.9+ KB\n"
     ]
    }
   ],
   "source": [
    "df_treino.info() \n",
    "print('--' * 40)\n",
    "df_teste.info()\n",
    "\n",
    "# 3 categóricas (object)\n",
    "# a variável-alvo ('Churn') é booleana\n",
    "# 16 variáveis numéricas (8 inteiras e 8 floats)\n",
    "# sem variáveis do tipo misto (alfanumérica)\n",
    "\n",
    "# Sem valores vazios e ausentes ou em branco para o conjunto de treino e teste!"
   ]
  },
  {
   "cell_type": "code",
   "execution_count": 6,
   "id": "8630d8a2",
   "metadata": {},
   "outputs": [
    {
     "data": {
      "text/plain": [
       "False"
      ]
     },
     "execution_count": 6,
     "metadata": {},
     "output_type": "execute_result"
    }
   ],
   "source": [
    "df_treino.duplicated().any() # Sem registros duplicados!"
   ]
  },
  {
   "cell_type": "markdown",
   "id": "2c9cef95",
   "metadata": {},
   "source": [
    "##### c) O que podemos perceber inicialmente a respeito das variáveis numéricas e categóricas do conjunto de treino?"
   ]
  },
  {
   "cell_type": "code",
   "execution_count": 7,
   "id": "81a70790",
   "metadata": {
    "scrolled": false
   },
   "outputs": [
    {
     "data": {
      "text/html": [
       "<div>\n",
       "<style scoped>\n",
       "    .dataframe tbody tr th:only-of-type {\n",
       "        vertical-align: middle;\n",
       "    }\n",
       "\n",
       "    .dataframe tbody tr th {\n",
       "        vertical-align: top;\n",
       "    }\n",
       "\n",
       "    .dataframe thead th {\n",
       "        text-align: right;\n",
       "    }\n",
       "</style>\n",
       "<table border=\"1\" class=\"dataframe\">\n",
       "  <thead>\n",
       "    <tr style=\"text-align: right;\">\n",
       "      <th></th>\n",
       "      <th>Account length</th>\n",
       "      <th>Area code</th>\n",
       "      <th>Number vmail messages</th>\n",
       "      <th>Total day minutes</th>\n",
       "      <th>Total day calls</th>\n",
       "      <th>Total day charge</th>\n",
       "      <th>Total eve minutes</th>\n",
       "      <th>Total eve calls</th>\n",
       "      <th>Total eve charge</th>\n",
       "      <th>Total night minutes</th>\n",
       "      <th>Total night calls</th>\n",
       "      <th>Total night charge</th>\n",
       "      <th>Total intl minutes</th>\n",
       "      <th>Total intl calls</th>\n",
       "      <th>Total intl charge</th>\n",
       "      <th>Customer service calls</th>\n",
       "    </tr>\n",
       "  </thead>\n",
       "  <tbody>\n",
       "    <tr>\n",
       "      <th>count</th>\n",
       "      <td>2666.000000</td>\n",
       "      <td>2666.000000</td>\n",
       "      <td>2666.000000</td>\n",
       "      <td>2666.000000</td>\n",
       "      <td>2666.000000</td>\n",
       "      <td>2666.000000</td>\n",
       "      <td>2666.000000</td>\n",
       "      <td>2666.000000</td>\n",
       "      <td>2666.000000</td>\n",
       "      <td>2666.000000</td>\n",
       "      <td>2666.000000</td>\n",
       "      <td>2666.000000</td>\n",
       "      <td>2666.000000</td>\n",
       "      <td>2666.000000</td>\n",
       "      <td>2666.000000</td>\n",
       "      <td>2666.000000</td>\n",
       "    </tr>\n",
       "    <tr>\n",
       "      <th>mean</th>\n",
       "      <td>101.154539</td>\n",
       "      <td>437.427982</td>\n",
       "      <td>7.806827</td>\n",
       "      <td>179.945199</td>\n",
       "      <td>100.644786</td>\n",
       "      <td>30.591204</td>\n",
       "      <td>201.225169</td>\n",
       "      <td>99.874719</td>\n",
       "      <td>17.104385</td>\n",
       "      <td>201.608852</td>\n",
       "      <td>100.248312</td>\n",
       "      <td>9.072498</td>\n",
       "      <td>10.254764</td>\n",
       "      <td>4.531883</td>\n",
       "      <td>2.769287</td>\n",
       "      <td>1.571643</td>\n",
       "    </tr>\n",
       "    <tr>\n",
       "      <th>std</th>\n",
       "      <td>39.789636</td>\n",
       "      <td>42.442070</td>\n",
       "      <td>13.577317</td>\n",
       "      <td>54.362238</td>\n",
       "      <td>20.201486</td>\n",
       "      <td>9.241575</td>\n",
       "      <td>50.762638</td>\n",
       "      <td>20.039531</td>\n",
       "      <td>4.314817</td>\n",
       "      <td>50.677921</td>\n",
       "      <td>19.619759</td>\n",
       "      <td>2.280545</td>\n",
       "      <td>2.778632</td>\n",
       "      <td>2.513438</td>\n",
       "      <td>0.750231</td>\n",
       "      <td>1.325011</td>\n",
       "    </tr>\n",
       "    <tr>\n",
       "      <th>min</th>\n",
       "      <td>1.000000</td>\n",
       "      <td>408.000000</td>\n",
       "      <td>0.000000</td>\n",
       "      <td>0.000000</td>\n",
       "      <td>0.000000</td>\n",
       "      <td>0.000000</td>\n",
       "      <td>0.000000</td>\n",
       "      <td>0.000000</td>\n",
       "      <td>0.000000</td>\n",
       "      <td>23.200000</td>\n",
       "      <td>33.000000</td>\n",
       "      <td>1.040000</td>\n",
       "      <td>0.000000</td>\n",
       "      <td>0.000000</td>\n",
       "      <td>0.000000</td>\n",
       "      <td>0.000000</td>\n",
       "    </tr>\n",
       "    <tr>\n",
       "      <th>25%</th>\n",
       "      <td>74.000000</td>\n",
       "      <td>415.000000</td>\n",
       "      <td>0.000000</td>\n",
       "      <td>144.025000</td>\n",
       "      <td>88.000000</td>\n",
       "      <td>24.485000</td>\n",
       "      <td>167.100000</td>\n",
       "      <td>87.000000</td>\n",
       "      <td>14.200000</td>\n",
       "      <td>167.000000</td>\n",
       "      <td>87.000000</td>\n",
       "      <td>7.520000</td>\n",
       "      <td>8.500000</td>\n",
       "      <td>3.000000</td>\n",
       "      <td>2.300000</td>\n",
       "      <td>1.000000</td>\n",
       "    </tr>\n",
       "    <tr>\n",
       "      <th>50%</th>\n",
       "      <td>101.000000</td>\n",
       "      <td>415.000000</td>\n",
       "      <td>0.000000</td>\n",
       "      <td>180.000000</td>\n",
       "      <td>101.000000</td>\n",
       "      <td>30.600000</td>\n",
       "      <td>202.400000</td>\n",
       "      <td>100.000000</td>\n",
       "      <td>17.200000</td>\n",
       "      <td>202.350000</td>\n",
       "      <td>100.000000</td>\n",
       "      <td>9.105000</td>\n",
       "      <td>10.300000</td>\n",
       "      <td>4.000000</td>\n",
       "      <td>2.780000</td>\n",
       "      <td>1.000000</td>\n",
       "    </tr>\n",
       "    <tr>\n",
       "      <th>75%</th>\n",
       "      <td>127.000000</td>\n",
       "      <td>510.000000</td>\n",
       "      <td>17.000000</td>\n",
       "      <td>216.900000</td>\n",
       "      <td>114.000000</td>\n",
       "      <td>36.870000</td>\n",
       "      <td>236.000000</td>\n",
       "      <td>114.000000</td>\n",
       "      <td>20.060000</td>\n",
       "      <td>236.600000</td>\n",
       "      <td>114.000000</td>\n",
       "      <td>10.650000</td>\n",
       "      <td>12.100000</td>\n",
       "      <td>6.000000</td>\n",
       "      <td>3.270000</td>\n",
       "      <td>2.000000</td>\n",
       "    </tr>\n",
       "    <tr>\n",
       "      <th>max</th>\n",
       "      <td>243.000000</td>\n",
       "      <td>510.000000</td>\n",
       "      <td>50.000000</td>\n",
       "      <td>350.800000</td>\n",
       "      <td>165.000000</td>\n",
       "      <td>59.640000</td>\n",
       "      <td>363.700000</td>\n",
       "      <td>170.000000</td>\n",
       "      <td>30.910000</td>\n",
       "      <td>395.000000</td>\n",
       "      <td>175.000000</td>\n",
       "      <td>17.770000</td>\n",
       "      <td>20.000000</td>\n",
       "      <td>20.000000</td>\n",
       "      <td>5.400000</td>\n",
       "      <td>9.000000</td>\n",
       "    </tr>\n",
       "  </tbody>\n",
       "</table>\n",
       "</div>"
      ],
      "text/plain": [
       "       Account length    Area code  Number vmail messages  Total day minutes  \\\n",
       "count     2666.000000  2666.000000            2666.000000        2666.000000   \n",
       "mean       101.154539   437.427982               7.806827         179.945199   \n",
       "std         39.789636    42.442070              13.577317          54.362238   \n",
       "min          1.000000   408.000000               0.000000           0.000000   \n",
       "25%         74.000000   415.000000               0.000000         144.025000   \n",
       "50%        101.000000   415.000000               0.000000         180.000000   \n",
       "75%        127.000000   510.000000              17.000000         216.900000   \n",
       "max        243.000000   510.000000              50.000000         350.800000   \n",
       "\n",
       "       Total day calls  Total day charge  Total eve minutes  Total eve calls  \\\n",
       "count      2666.000000       2666.000000        2666.000000      2666.000000   \n",
       "mean        100.644786         30.591204         201.225169        99.874719   \n",
       "std          20.201486          9.241575          50.762638        20.039531   \n",
       "min           0.000000          0.000000           0.000000         0.000000   \n",
       "25%          88.000000         24.485000         167.100000        87.000000   \n",
       "50%         101.000000         30.600000         202.400000       100.000000   \n",
       "75%         114.000000         36.870000         236.000000       114.000000   \n",
       "max         165.000000         59.640000         363.700000       170.000000   \n",
       "\n",
       "       Total eve charge  Total night minutes  Total night calls  \\\n",
       "count       2666.000000          2666.000000        2666.000000   \n",
       "mean          17.104385           201.608852         100.248312   \n",
       "std            4.314817            50.677921          19.619759   \n",
       "min            0.000000            23.200000          33.000000   \n",
       "25%           14.200000           167.000000          87.000000   \n",
       "50%           17.200000           202.350000         100.000000   \n",
       "75%           20.060000           236.600000         114.000000   \n",
       "max           30.910000           395.000000         175.000000   \n",
       "\n",
       "       Total night charge  Total intl minutes  Total intl calls  \\\n",
       "count         2666.000000         2666.000000       2666.000000   \n",
       "mean             9.072498           10.254764          4.531883   \n",
       "std              2.280545            2.778632          2.513438   \n",
       "min              1.040000            0.000000          0.000000   \n",
       "25%              7.520000            8.500000          3.000000   \n",
       "50%              9.105000           10.300000          4.000000   \n",
       "75%             10.650000           12.100000          6.000000   \n",
       "max             17.770000           20.000000         20.000000   \n",
       "\n",
       "       Total intl charge  Customer service calls  \n",
       "count        2666.000000             2666.000000  \n",
       "mean            2.769287                1.571643  \n",
       "std             0.750231                1.325011  \n",
       "min             0.000000                0.000000  \n",
       "25%             2.300000                1.000000  \n",
       "50%             2.780000                1.000000  \n",
       "75%             3.270000                2.000000  \n",
       "max             5.400000                9.000000  "
      ]
     },
     "execution_count": 7,
     "metadata": {},
     "output_type": "execute_result"
    }
   ],
   "source": [
    "df_treino.describe()"
   ]
  },
  {
   "cell_type": "markdown",
   "id": "ad19d393",
   "metadata": {},
   "source": [
    "Diante da estatística descritiva de nossas variáveis numéricas, podemos extrair algumas conclusões:\n",
    "\n",
    "* Cerca de metade dos clientes estão fidelizados a pelo menos 8 anos e 5 meses, sendo que a média geral está praticamente semelhante, o que sugere uma distribuição normal dos registros relacionados a esse atributo;\n",
    "\n",
    "* Embora o código de área esteja como uma variável numérica, seria interessante, mais adiante, analisá-lo do ponto de vista categórico, uma vez que cada código representa uma determinada região geográfica dos EUA e pode ser analisada comparando com as variáveis numéricas deste conjunto de treino;\n",
    "\n",
    "* Quanto à quantidade de mensagens por correio de voz, temos uma média de 7,8 mensagens por cliente. No entanto, metade deles não utiliza tal serviço, sugerindo assim que essas mensagens são utilizadas somente por uma determinada parcela de nosso portfólio, onde podemos inferir uma distribuição assimétrica;\n",
    "\n",
    "* Analisando as variáveis de minutos gastos, quantidade de ligações e valor gasto (durante o dia, início da noite e noite) percebemos que todas elas possuem uma distribuição gaussiana, onde a média está muito próxima a mediana dos dados coletados; \n",
    "\n",
    "* Em relação aos minutos falados, notamos que os clientes ficam, em média, cerca de 12% a menos no telefone durante o dia, em comparação ao período noturno, apesar da média da quantidade de ligações seja próxima de 100 para os três turnos; \n",
    "\n",
    "* Embora tenhamos uma quantidade média de ligações semelhante nos três períodos do dia, assim como temos uma diminuição de 12% na quantidade de ligações de dia (em comparação ao início da noite e à noite), o custo médio atrelado a esse turno é cerca de 76% maior do que o custo médio por cliente das ligações realizadas no início da noite, e até 233% maior do que o custo médio noturno!;\n",
    "\n",
    "* Quanto aos minutos destinados à ligações internacionais, obtemos uma média de 10,25 minutos por cliente, sendo que cerca de 3 a cada 4 pessoas realizam até 6 ligações, em média, para o exterior (onde encontramos extremos de 0 até 20 ligações); \n",
    "\n",
    "* Embora encontremos clientes com custo total de ligações internacionais que ultrapassam a marca dos 5 dólares, a média geral fica nos 2,76 dólares, sendo que o custo médio por ligação internacional é de 0,27 centavos de dólares a cada minuto utilizado;\n",
    "\n",
    "* Em relação à procura por suporte ao cliente, cerca de 3 a cada 4 pessoas realizaram até 2 ligações à operadora, sendo que houveram extremos de zero solicitações até nove."
   ]
  },
  {
   "cell_type": "code",
   "execution_count": 8,
   "id": "309b4a5e",
   "metadata": {},
   "outputs": [
    {
     "data": {
      "text/html": [
       "<div>\n",
       "<style scoped>\n",
       "    .dataframe tbody tr th:only-of-type {\n",
       "        vertical-align: middle;\n",
       "    }\n",
       "\n",
       "    .dataframe tbody tr th {\n",
       "        vertical-align: top;\n",
       "    }\n",
       "\n",
       "    .dataframe thead th {\n",
       "        text-align: right;\n",
       "    }\n",
       "</style>\n",
       "<table border=\"1\" class=\"dataframe\">\n",
       "  <thead>\n",
       "    <tr style=\"text-align: right;\">\n",
       "      <th></th>\n",
       "      <th>State</th>\n",
       "      <th>International plan</th>\n",
       "      <th>Voice mail plan</th>\n",
       "    </tr>\n",
       "  </thead>\n",
       "  <tbody>\n",
       "    <tr>\n",
       "      <th>count</th>\n",
       "      <td>2666</td>\n",
       "      <td>2666</td>\n",
       "      <td>2666</td>\n",
       "    </tr>\n",
       "    <tr>\n",
       "      <th>unique</th>\n",
       "      <td>51</td>\n",
       "      <td>2</td>\n",
       "      <td>2</td>\n",
       "    </tr>\n",
       "    <tr>\n",
       "      <th>top</th>\n",
       "      <td>WV</td>\n",
       "      <td>No</td>\n",
       "      <td>No</td>\n",
       "    </tr>\n",
       "    <tr>\n",
       "      <th>freq</th>\n",
       "      <td>83</td>\n",
       "      <td>2396</td>\n",
       "      <td>1958</td>\n",
       "    </tr>\n",
       "  </tbody>\n",
       "</table>\n",
       "</div>"
      ],
      "text/plain": [
       "       State International plan Voice mail plan\n",
       "count   2666               2666            2666\n",
       "unique    51                  2               2\n",
       "top       WV                 No              No\n",
       "freq      83               2396            1958"
      ]
     },
     "execution_count": 8,
     "metadata": {},
     "output_type": "execute_result"
    }
   ],
   "source": [
    "df_treino.describe(include=['O'])"
   ]
  },
  {
   "cell_type": "markdown",
   "id": "ba7328b6",
   "metadata": {},
   "source": [
    "Já para as variáveis categóricas, podemos concluir inicialmente que:\n",
    "\n",
    "* O estado americano da Virgínia Ocidental (WV) é o que contém mais clientes dentro do portfólio da empresa, preenchendo cerca de 3,1% do total. O portfólio contém clientes dos 51 estados americanos;\n",
    "\n",
    "* Cerca de 1, a cada 10 clientes, possuem o plano que abrange ligações para o exterior;\n",
    "\n",
    "* Aproximadamente 1 a cada 4 clientes possuem o plano que inclui as mensagens de voz.\n",
    "\n",
    "* A nossa variável *target* é o *churn* do cliente, que não está contido nessa tabela por ser uma variável booleana representada por 0 (Cliente fidelizado) e 1 (Cliente evadido). "
   ]
  },
  {
   "cell_type": "markdown",
   "id": "a89d9dc2",
   "metadata": {},
   "source": [
    "#### 2.4. Suposições baseadas na análise dos dados"
   ]
  },
  {
   "cell_type": "markdown",
   "id": "671c92dd",
   "metadata": {},
   "source": [
    "Chegando até esse ponto do trabalho, pudemos fazer algumas suposições quanto às ações a serem feitas para a otimização do nosso conjunto de dados. No entanto, antes de transformarmos essa suposições em ações proporiamente ditas, vamos validar cada tópico levantado. "
   ]
  },
  {
   "cell_type": "markdown",
   "id": "c1838a1a",
   "metadata": {},
   "source": [
    "* **Correlações:** Vamos verificar o nível de correlação das nossas variáveis numéricas e categóricas com a nossa variável-alvo (*churn*);\n",
    "\n",
    "* **Preenchimentos:** Não é necessário o preenchimento de nenhum campo, uma vez que, conforme verificamos, não há campos vazios em nosso conjunto de dados. Isso permite um cálculo preciso da correlação entre as variáveis preditoras com a nossa *target*. ;\n",
    "\n",
    "* **Correções:** Vamos categorizar a variável '*area code*', além de apagar as variáveis relacionadas ao custo e tempo das ligações de todos os turnos, para criarmos variáveis novas de custo/tempo. O mesmo faremos com as variáveis de quantidade de solicitações e tempo de fidelidade, que dará lugar a uma única variável que me dirá quantos meses, em média, o cliente demora para solicitar auxílio;\n",
    "\n",
    "* **Criações:** Conforme dito anteriormente, vamos criar variáveis novas de custo/tempo. Vamos testar também a criação de uma variável que relacionará a quantidade de solicitações de suporte por tempo de fidelidade;\n",
    "\n",
    "* **Classificações:** Com base nas variáveis categóricas, podemos levantar mais algumas questõesb que podem ser analisadas em etapas posteriores do trabalho, como:\n",
    "\n",
    "    **a)** *Qual estado americano que possui a maior probabilidade de churns?* \n",
    "\n",
    "    **b)** *Qual código de área (região do estado) em que houveram mais evasões de clientes?* \n",
    "\n",
    "    **c)** *Quem assina o plano de ligações internacionais tem mais chances de cancelar sua assinatura em relação aos que não assinam?*\n",
    "\n",
    "    **d)** *Quem assina o plano de mensagens de voz tem mais chances de cancelar sua assinatura em relação aos que não aderem a esse serviço?*"
   ]
  },
  {
   "cell_type": "markdown",
   "id": "b61fe046",
   "metadata": {},
   "source": [
    "### 3. ANÁLISE EXPLORATÓRIA"
   ]
  },
  {
   "cell_type": "markdown",
   "id": "1dcaeaa0",
   "metadata": {},
   "source": [
    "Com o objetivo de buscar respostas a algumas de nossas questões listadas acima, vamos analisar as nossas variáveis fazendo o cruzamento de informações entre as mesmas. "
   ]
  },
  {
   "cell_type": "code",
   "execution_count": 9,
   "id": "9961ef38",
   "metadata": {},
   "outputs": [
    {
     "data": {
      "text/html": [
       "<div>\n",
       "<style scoped>\n",
       "    .dataframe tbody tr th:only-of-type {\n",
       "        vertical-align: middle;\n",
       "    }\n",
       "\n",
       "    .dataframe tbody tr th {\n",
       "        vertical-align: top;\n",
       "    }\n",
       "\n",
       "    .dataframe thead th {\n",
       "        text-align: right;\n",
       "    }\n",
       "</style>\n",
       "<table border=\"1\" class=\"dataframe\">\n",
       "  <thead>\n",
       "    <tr style=\"text-align: right;\">\n",
       "      <th></th>\n",
       "      <th>State</th>\n",
       "      <th>Churn</th>\n",
       "    </tr>\n",
       "  </thead>\n",
       "  <tbody>\n",
       "    <tr>\n",
       "      <th>4</th>\n",
       "      <td>CA</td>\n",
       "      <td>0.266667</td>\n",
       "    </tr>\n",
       "    <tr>\n",
       "      <th>22</th>\n",
       "      <td>MI</td>\n",
       "      <td>0.266667</td>\n",
       "    </tr>\n",
       "    <tr>\n",
       "      <th>31</th>\n",
       "      <td>NJ</td>\n",
       "      <td>0.263158</td>\n",
       "    </tr>\n",
       "    <tr>\n",
       "      <th>43</th>\n",
       "      <td>TX</td>\n",
       "      <td>0.261538</td>\n",
       "    </tr>\n",
       "    <tr>\n",
       "      <th>20</th>\n",
       "      <td>MD</td>\n",
       "      <td>0.241379</td>\n",
       "    </tr>\n",
       "  </tbody>\n",
       "</table>\n",
       "</div>"
      ],
      "text/plain": [
       "   State     Churn\n",
       "4     CA  0.266667\n",
       "22    MI  0.266667\n",
       "31    NJ  0.263158\n",
       "43    TX  0.261538\n",
       "20    MD  0.241379"
      ]
     },
     "execution_count": 9,
     "metadata": {},
     "output_type": "execute_result"
    }
   ],
   "source": [
    "df_treino[['State','Churn']].groupby(['State'], as_index=False).mean().sort_values(by='Churn', ascending=False).head()\n",
    " # questão[A] = Califórnia e Miami são os estados com maior probabilidade de Churn (cerca de 26,66%);"
   ]
  },
  {
   "cell_type": "code",
   "execution_count": 10,
   "id": "3e171887",
   "metadata": {},
   "outputs": [
    {
     "data": {
      "text/html": [
       "<div>\n",
       "<style scoped>\n",
       "    .dataframe tbody tr th:only-of-type {\n",
       "        vertical-align: middle;\n",
       "    }\n",
       "\n",
       "    .dataframe tbody tr th {\n",
       "        vertical-align: top;\n",
       "    }\n",
       "\n",
       "    .dataframe thead th {\n",
       "        text-align: right;\n",
       "    }\n",
       "</style>\n",
       "<table border=\"1\" class=\"dataframe\">\n",
       "  <thead>\n",
       "    <tr style=\"text-align: right;\">\n",
       "      <th></th>\n",
       "      <th>Area code</th>\n",
       "      <th>Churn</th>\n",
       "    </tr>\n",
       "  </thead>\n",
       "  <tbody>\n",
       "    <tr>\n",
       "      <th>0</th>\n",
       "      <td>408</td>\n",
       "      <td>0.154799</td>\n",
       "    </tr>\n",
       "    <tr>\n",
       "      <th>2</th>\n",
       "      <td>510</td>\n",
       "      <td>0.146233</td>\n",
       "    </tr>\n",
       "    <tr>\n",
       "      <th>1</th>\n",
       "      <td>415</td>\n",
       "      <td>0.142964</td>\n",
       "    </tr>\n",
       "  </tbody>\n",
       "</table>\n",
       "</div>"
      ],
      "text/plain": [
       "   Area code     Churn\n",
       "0        408  0.154799\n",
       "2        510  0.146233\n",
       "1        415  0.142964"
      ]
     },
     "execution_count": 10,
     "metadata": {},
     "output_type": "execute_result"
    }
   ],
   "source": [
    "df_treino['Area code'] = df_treino['Area code'].astype(object)\n",
    "df_treino[['Area code','Churn']].groupby(['Area code'],\n",
    "                                                  as_index=False).mean().sort_values(by='Churn', ascending=False)\n",
    "\n",
    "# Questão [B]:\n",
    "# A probabilidade mais alta de churn por código de área (aprox. 15,5%) foi encontrada na região com o código de área 408;\n",
    "# Todos os 3 códigos de área são do estado da Califórnia;\n",
    "# 0 Código 408 pega a maior parte do condado de Santa Clara and o norte do condado de Santa Cruz; \n",
    "# Também inclui  as cidades de Gilroy, Morgan Hill, Saratoga, Los Gatos, Monte Sereno, Milpitas, Sunnyvale e  Santa Clara;\n",
    "# Outras cidades: Cupertino, Campbell, e San Jose (região 408 fica ao sul da Baía de São Francisco);\n",
    "# Os 3 códigos do dataset pertencem a uma região às margens da Baía de São Francisco, também conhecida como Vale do Silício."
   ]
  },
  {
   "cell_type": "code",
   "execution_count": 11,
   "id": "06ad14d8",
   "metadata": {},
   "outputs": [
    {
     "data": {
      "text/html": [
       "<div>\n",
       "<style scoped>\n",
       "    .dataframe tbody tr th:only-of-type {\n",
       "        vertical-align: middle;\n",
       "    }\n",
       "\n",
       "    .dataframe tbody tr th {\n",
       "        vertical-align: top;\n",
       "    }\n",
       "\n",
       "    .dataframe thead th {\n",
       "        text-align: right;\n",
       "    }\n",
       "</style>\n",
       "<table border=\"1\" class=\"dataframe\">\n",
       "  <thead>\n",
       "    <tr style=\"text-align: right;\">\n",
       "      <th></th>\n",
       "      <th>International plan</th>\n",
       "      <th>Churn</th>\n",
       "    </tr>\n",
       "  </thead>\n",
       "  <tbody>\n",
       "    <tr>\n",
       "      <th>1</th>\n",
       "      <td>Yes</td>\n",
       "      <td>0.422222</td>\n",
       "    </tr>\n",
       "    <tr>\n",
       "      <th>0</th>\n",
       "      <td>No</td>\n",
       "      <td>0.115609</td>\n",
       "    </tr>\n",
       "  </tbody>\n",
       "</table>\n",
       "</div>"
      ],
      "text/plain": [
       "  International plan     Churn\n",
       "1                Yes  0.422222\n",
       "0                 No  0.115609"
      ]
     },
     "execution_count": 11,
     "metadata": {},
     "output_type": "execute_result"
    }
   ],
   "source": [
    "df_treino[['International plan','Churn']].groupby(['International plan'],\n",
    "                                                  as_index=False).mean().sort_values(by='Churn', ascending=False)\n",
    "# Questão [C] = Sim. Quem tem plano internacional possui uma probabilidade de 42,2% de tornar-se Churn.\n",
    "# Os que não utilizam o plano de ligações para o exterior possuem uma chance de apenas 11,56% de evadirem."
   ]
  },
  {
   "cell_type": "code",
   "execution_count": 12,
   "id": "b8d2923b",
   "metadata": {},
   "outputs": [
    {
     "data": {
      "text/html": [
       "<div>\n",
       "<style scoped>\n",
       "    .dataframe tbody tr th:only-of-type {\n",
       "        vertical-align: middle;\n",
       "    }\n",
       "\n",
       "    .dataframe tbody tr th {\n",
       "        vertical-align: top;\n",
       "    }\n",
       "\n",
       "    .dataframe thead th {\n",
       "        text-align: right;\n",
       "    }\n",
       "</style>\n",
       "<table border=\"1\" class=\"dataframe\">\n",
       "  <thead>\n",
       "    <tr style=\"text-align: right;\">\n",
       "      <th></th>\n",
       "      <th>Voice mail plan</th>\n",
       "      <th>Churn</th>\n",
       "    </tr>\n",
       "  </thead>\n",
       "  <tbody>\n",
       "    <tr>\n",
       "      <th>0</th>\n",
       "      <td>No</td>\n",
       "      <td>0.168029</td>\n",
       "    </tr>\n",
       "    <tr>\n",
       "      <th>1</th>\n",
       "      <td>Yes</td>\n",
       "      <td>0.087571</td>\n",
       "    </tr>\n",
       "  </tbody>\n",
       "</table>\n",
       "</div>"
      ],
      "text/plain": [
       "  Voice mail plan     Churn\n",
       "0              No  0.168029\n",
       "1             Yes  0.087571"
      ]
     },
     "execution_count": 12,
     "metadata": {},
     "output_type": "execute_result"
    }
   ],
   "source": [
    "df_treino[['Voice mail plan','Churn']].groupby(['Voice mail plan'],\n",
    "                                                  as_index=False).mean().sort_values(by='Churn', ascending=False)\n",
    "# Questão [D] = Não. clientes com planos que incluem mensagens de voz possuem cerca de 8,7% de churn.\n",
    "# Em contrapartida, aqueles clientes que não possuem o plano, possuem 16,8% de churn (quase o dobro!)."
   ]
  },
  {
   "cell_type": "markdown",
   "id": "fd176fc2",
   "metadata": {},
   "source": [
    "Agora vamos continuar nossa análise, só que com o auxílio visual dos nossos gráficos."
   ]
  },
  {
   "cell_type": "markdown",
   "id": "32d49dad",
   "metadata": {},
   "source": [
    "#### 3.1. Correlacionando as variáveis numéricas"
   ]
  },
  {
   "cell_type": "code",
   "execution_count": 13,
   "id": "2ba9ac74",
   "metadata": {},
   "outputs": [
    {
     "data": {
      "text/plain": [
       "<AxesSubplot:xlabel='Churn', ylabel='Customer service calls'>"
      ]
     },
     "execution_count": 13,
     "metadata": {},
     "output_type": "execute_result"
    },
    {
     "data": {
      "image/png": "[encoded data removed]",
      "text/plain": [
       "<Figure size 1440x360 with 3 Axes>"
      ]
     },
     "metadata": {
      "needs_background": "light"
     },
     "output_type": "display_data"
    }
   ],
   "source": [
    "fig, axarr = plt.subplots(1, 3, figsize=(20, 5))\n",
    "palette = 'Set2'\n",
    "sns.boxplot(y='Account length',x = 'Churn', hue = 'Churn',data = df_treino, ax=axarr[0], palette=palette)\n",
    "sns.boxplot(y='Number vmail messages',x = 'Churn', hue = 'Churn',data = df_treino , ax=axarr[1], palette=palette)\n",
    "sns.boxplot(y='Customer service calls',x = 'Churn', hue = 'Churn',data = df_treino, ax=axarr[2], palette=palette)"
   ]
  },
  {
   "cell_type": "markdown",
   "id": "bb0ae8ef",
   "metadata": {},
   "source": [
    "* Conforme podemos observar (confirmando nossas observações iniciais feitas com o auxílio do método *describe*), a decisão pela evasão não contém muita influência do tempo de fidelidade, uma vez que ambos possuem uma média próxima aos 100 meses.\n",
    "\n",
    "* Já no segundo boxplot, percebemos que grande parte dos churns não utilizava o serviço de mensagens de voz, uma vez que esse serviço está concentrado nos clientes ativos (seria interessante apostar nesse serviço para a elaboração de uma estratégia visando a retenção e prospecção dos nossos *customers*). \n",
    "\n",
    "* No terceiro boxplot, podemos notar que os clientes que optaram por desativar sua assinatura são aqueles que mais solicitaram suporte. Um investimento no controle de qualidade dos serviços prestados, capacitação da equipe de suporte, assim como a adoção dessa métrica como um indicador-chave para a organização, são ações que tendem a surtar efeitos positivos para a mesma.  "
   ]
  },
  {
   "cell_type": "code",
   "execution_count": 14,
   "id": "ee5fa7eb",
   "metadata": {
    "scrolled": false
   },
   "outputs": [
    {
     "data": {
      "text/plain": [
       "<AxesSubplot:xlabel='Churn', ylabel='Total night minutes'>"
      ]
     },
     "execution_count": 14,
     "metadata": {},
     "output_type": "execute_result"
    },
    {
     "data": {
      "image/png": "[encoded data removed]",
      "text/plain": [
       "<Figure size 1440x720 with 4 Axes>"
      ]
     },
     "metadata": {
      "needs_background": "light"
     },
     "output_type": "display_data"
    }
   ],
   "source": [
    "fig, axarr = plt.subplots(2, 2, figsize=(20, 10))\n",
    "palette = 'Set2'\n",
    "sns.boxplot(y='Total day minutes',x = 'Churn', hue = 'Churn',data = df_treino, ax=axarr[0][0], palette=palette)\n",
    "sns.boxplot(y='Total eve minutes',x = 'Churn', hue = 'Churn',data = df_treino , ax=axarr[0][1], palette=palette)\n",
    "sns.boxplot(y='Total night minutes',x = 'Churn', hue = 'Churn',data = df_treino, ax=axarr[1][0], palette=palette)\n",
    "sns.boxplot(y='Total night minutes',x = 'Churn', hue = 'Churn',data = df_treino, ax=axarr[1][1], palette=palette)"
   ]
  },
  {
   "cell_type": "markdown",
   "id": "9fbf865a",
   "metadata": {},
   "source": [
    "Analisando os boxplots acima, podemos perceber que os churns possuem uma média de minutos falados superior em todos os turnos: seja pelo dia, ao anoitecer ou pela noite. Isso reforça nossa preocupação com a qualidade do serviço e a consequente perda de clientes, pois cada cliente que evade é uma perda de receita, ainda mais quando esse grupo é o que mais consome os serviços da empresa."
   ]
  },
  {
   "cell_type": "code",
   "execution_count": 15,
   "id": "e199085d",
   "metadata": {},
   "outputs": [
    {
     "data": {
      "text/plain": [
       "<AxesSubplot:xlabel='Churn', ylabel='Total intl calls'>"
      ]
     },
     "execution_count": 15,
     "metadata": {},
     "output_type": "execute_result"
    },
    {
     "data": {
      "image/png": "[encoded data removed]",
      "text/plain": [
       "<Figure size 1440x720 with 4 Axes>"
      ]
     },
     "metadata": {
      "needs_background": "light"
     },
     "output_type": "display_data"
    }
   ],
   "source": [
    "fig, axarr = plt.subplots(2, 2, figsize=(20, 10))\n",
    "palette = 'Set2'\n",
    "sns.boxplot(y='Total day calls',x = 'Churn', hue = 'Churn',data = df_treino, ax=axarr[0][0], palette=palette)\n",
    "sns.boxplot(y='Total eve calls',x = 'Churn', hue = 'Churn',data = df_treino , ax=axarr[0][1], palette=palette)\n",
    "sns.boxplot(y='Total night calls',x = 'Churn', hue = 'Churn',data = df_treino, ax=axarr[1][0], palette=palette)\n",
    "sns.boxplot(y='Total intl calls',x = 'Churn', hue = 'Churn',data = df_treino, ax=axarr[1][1], palette=palette)"
   ]
  },
  {
   "cell_type": "markdown",
   "id": "10dd63bd",
   "metadata": {},
   "source": [
    "* Em relação à quantidade de ligações realizadas por turno, não notamos uma grande diferença entre os churns e os clientes ativos. No entanto, se formos comparar a quantidade de ligações com os minutos despendidos, podemos reforçar a gravidade da perda de clientes, uma vez que o grupo dos churns possui uma média maior no quesito minutos realizados/chamada. \n",
    "\n",
    "* Já nas ligações internacionais, os churns possuem uma média levemente superior e todo o grupo já utilizou esse serviço, embora o intervalo interquartílico dos clientes ativos seja maior (o que diminui a sua média é o fato de ter uma parcela do seu grupo que não usufruiu do serviço em questão). "
   ]
  },
  {
   "cell_type": "code",
   "execution_count": 16,
   "id": "8f000be8",
   "metadata": {},
   "outputs": [
    {
     "data": {
      "text/plain": [
       "<AxesSubplot:xlabel='Churn', ylabel='Total intl charge'>"
      ]
     },
     "execution_count": 16,
     "metadata": {},
     "output_type": "execute_result"
    },
    {
     "data": {
      "image/png": "[encoded data removed]",
      "text/plain": [
       "<Figure size 1440x720 with 4 Axes>"
      ]
     },
     "metadata": {
      "needs_background": "light"
     },
     "output_type": "display_data"
    }
   ],
   "source": [
    "fig, axarr = plt.subplots(2, 2, figsize=(20, 10))\n",
    "palette = 'Set2'\n",
    "sns.boxplot(y='Total day charge',x = 'Churn', hue = 'Churn',data = df_treino, ax=axarr[0][0], palette=palette)\n",
    "sns.boxplot(y='Total eve charge',x = 'Churn', hue = 'Churn',data = df_treino , ax=axarr[0][1], palette=palette)\n",
    "sns.boxplot(y='Total night charge',x = 'Churn', hue = 'Churn',data = df_treino, ax=axarr[1][0], palette=palette)\n",
    "sns.boxplot(y='Total intl charge',x = 'Churn', hue = 'Churn',data = df_treino, ax=axarr[1][1], palette=palette)"
   ]
  },
  {
   "cell_type": "markdown",
   "id": "b90652d3",
   "metadata": {},
   "source": [
    "Quando analisamos as cobranças, notamos que o grupo de *churns* possui um valor médio maior, em especial pelo período do dia. Isso ressalta a gravidade ocasionada pela perda de receita na organização, devido à diminuição do seu portfólio de clientes ativos citada anteriormente."
   ]
  },
  {
   "cell_type": "markdown",
   "id": "4a9bea8b",
   "metadata": {},
   "source": [
    "#### 3.2. Correlacionando as variáveis categóricas"
   ]
  },
  {
   "cell_type": "code",
   "execution_count": 36,
   "id": "cd873fa1",
   "metadata": {
    "scrolled": false
   },
   "outputs": [
    {
     "data": {
      "text/plain": [
       "<AxesSubplot:xlabel='Voice mail plan', ylabel='count'>"
      ]
     },
     "execution_count": 36,
     "metadata": {},
     "output_type": "execute_result"
    },
    {
     "data": {
      "image/png": "[encoded data removed]",
      "text/plain": [
       "<Figure size 1440x720 with 4 Axes>"
      ]
     },
     "metadata": {
      "needs_background": "light"
     },
     "output_type": "display_data"
    }
   ],
   "source": [
    "fig , axarr = plt.subplots(2, 2, figsize=(20, 10))\n",
    "palette = 'Set2' \n",
    "sns.countplot(x= 'Churn', data = df_treino, ax=axarr[0][0], palette=palette)\n",
    "sns.countplot(x='Area code', hue = 'Churn',data = df_treino, ax=axarr[0][1], palette=palette)\n",
    "sns.countplot(x='International plan', hue = 'Churn',data = df_treino, ax=axarr[1][0], palette=palette)\n",
    "sns.countplot(x='Voice mail plan', hue = 'Churn',data = df_treino, ax=axarr[1][1], palette=palette)"
   ]
  },
  {
   "cell_type": "markdown",
   "id": "de04e04a",
   "metadata": {},
   "source": [
    "* Iniciando a análise das nossas variáveis categóricas, temos que 391 registros (dos 2666 que compões o conjunto de treino) são churns, o que representa quase 15% da nossa amostra de treino. o que sugere um dataset \"desbalanceado\";\n",
    "\n",
    "* Quanto aos códigos de área, percebemos que aqueles que estão no código de área 415 são mais fiéis à empresa (essa área representa cerca de metade dos clientes atendidos). Em contrapartida, as regiões 408 e 510 possuem cerca de 1/4 da clientela cada uma e chegam a níveis de churn quase equivalentes ao da primeira região. Parece que a empresa está priorizando seus esforços para o lugar de onde vem a maior parte dos seus clientes, o que é bom, no entanto ela está perdendo fatia nas demais regiões, fato este que deve ser motivo de atenção. Deve-se Traçar uma estratégia de retenção para essas regiões de menor foco;\n",
    "\n",
    "* Há um nível de fidelização muito maior pelas pessoas que não aderiram ao plano internacional em comparação aos clientes que aderiram, onde quase todos acabaram cancelando sua assinatura. Esse churn é alarmante e deve ser motivo de extrema atenção para a empresa: há algo errado na prestação de serviços referente ao plano internacional. Deve-se fazer um estudo atento para detectar as falhas desse serviço (seja no atendimento ou falhas operacionais), e assim mitigar a quantidade de churns referentes a esse motivo;\n",
    "\n",
    "* Quanto aos churns devido ao plano de mensagens de voz, não conseguimos constatar nenhum motivo que relacione ambos, uma vez que a proporção dos dois é praticamente semelhante, o que nos passa uma primeira impressão de estabilidade na prestação desse tipo de serviço."
   ]
  },
  {
   "cell_type": "code",
   "execution_count": 40,
   "id": "18db75cf",
   "metadata": {
    "scrolled": false
   },
   "outputs": [
    {
     "data": {
      "text/plain": [
       "<AxesSubplot:xlabel='State', ylabel='count'>"
      ]
     },
     "execution_count": 40,
     "metadata": {},
     "output_type": "execute_result"
    },
    {
     "data": {
      "image/png": "[encoded data removed]",
      "text/plain": [
       "<Figure size 1440x720 with 1 Axes>"
      ]
     },
     "metadata": {
      "needs_background": "light"
     },
     "output_type": "display_data"
    }
   ],
   "source": [
    "fig , axarr = plt.subplots(1, 1,figsize=(20, 10))\n",
    "palette = 'Set2' \n",
    "sns.countplot(x='State', hue = 'Churn',data = df_treino, ax=axarr, palette=palette)"
   ]
  },
  {
   "cell_type": "markdown",
   "id": "42d16f35",
   "metadata": {},
   "source": []
  }
 ],
 "metadata": {
  "kernelspec": {
   "display_name": "Python 3 (ipykernel)",
   "language": "python",
   "name": "python3"
  },
  "language_info": {
   "codemirror_mode": {
    "name": "ipython",
    "version": 3
   },
   "file_extension": ".py",
   "mimetype": "text/x-python",
   "name": "python",
   "nbconvert_exporter": "python",
   "pygments_lexer": "ipython3",
   "version": "3.9.7"
  }
 },
 "nbformat": 4,
 "nbformat_minor": 5
}
